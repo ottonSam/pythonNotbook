{
 "cells": [
  {
   "cell_type": "markdown",
   "metadata": {},
   "source": [
    "# Matrizes\n",
    "Uma definição mais formal de matriz seria uma estrutura de dados utilizada para representar variáveis com valores homogêneos, mas embora precisa não precisamos nos apegar tanto a essa definição, uma matriz pode ser entendida como uma tabela que segue algumas regras. Embora não exista nativamente o tipo matriz em python (Assim como na maior parte das linguagens de programação 😒) mas isso não torna sua implementação algo complexo para representa-la apenas devemos criar uma lista de listas."
   ]
  },
  {
   "cell_type": "code",
   "execution_count": 1,
   "metadata": {},
   "outputs": [],
   "source": [
    "matriz = [\n",
    "    [0, 1, 2],\n",
    "    [1, 2, 3],\n",
    "    [2, 3, 4]\n",
    "]"
   ]
  },
  {
   "cell_type": "markdown",
   "metadata": {},
   "source": [
    "Claro que parece muito simples e de fato é, embora talvez ainda não esteja claro como podemos usar as matrizes para auxiliar na resolução de problemas acreditem elas são incrivelmente uteis. Agora vamos explorar um pouco das regras as quais a \"tabela\" deve seguir para ser considerada uma matriz, caso lembre das aulas de matemática você deve saber que uma matriz é dividida em linhas e colunas e que todas as linhas presentes na matriz devem ter exatamente o mesmo numero de colunas.\n",
    "\n",
    "Como ja deve ter percebido nessa implementação básica não podemos garantir que todas as linhas da matriz vão ser do mesmo tamanho, então que tal criarmos uma função para verificar essa propriedade?"
   ]
  },
  {
   "cell_type": "code",
   "execution_count": 2,
   "metadata": {},
   "outputs": [],
   "source": [
    "def is_valid(matriz):\n",
    "    for i in range(len(matriz)):\n",
    "        if (len(matriz[i]) != len(matriz[0])):\n",
    "            return False\n",
    "    return True"
   ]
  },
  {
   "cell_type": "markdown",
   "metadata": {},
   "source": [
    "Esse trecho simples de código tem um funcionamento bem simples percorre todas as linhas da matriz e faz uma comparação de sua quantidade de elementos com a primeira linha, e caso detecte uma linha com um numero de elementos diferente das demais o retorno é Falso, caso todas tenham exatamente a mesma quantia de elemento o retorno é Verdadeiro.\n",
    "\n",
    "Simbora testar alguns objetos que achamos poder ser matrizes?\n",
    "\n",
    "<img src=\"https://c.tenor.com/5-yxqQEbeqMAAAAC/jojo-anime.gif\" width=\"300\" />\n",
    "\n"
   ]
  },
  {
   "cell_type": "code",
   "execution_count": 8,
   "metadata": {},
   "outputs": [
    {
     "name": "stdout",
     "output_type": "stream",
     "text": [
      "True\n",
      "True\n",
      "True\n",
      "False\n"
     ]
    }
   ],
   "source": [
    "print(is_valid([\n",
    "    []\n",
    "]))\n",
    "\n",
    "print(is_valid([\n",
    "    [1, 2, 3]\n",
    "]))\n",
    "\n",
    "print(is_valid([\n",
    "    [1],\n",
    "    [2],\n",
    "    [3]\n",
    "]))\n",
    "\n",
    "print(is_valid([\n",
    "    [1, 2, 3],\n",
    "    [1, 2],\n",
    "    [1]\n",
    "]))"
   ]
  },
  {
   "cell_type": "markdown",
   "metadata": {},
   "source": [
    "Como esperado o ultimo não passou no teste e portanto não deveria ser considerado uma matriz, mas todas as outras inclusive a vazia são exemplos validos.\n",
    "\n",
    "Claro que só saber que é uma matriz não nos ajuda muito então vamos começar a fazer algumas operações com essas belezinhas. E para começar nada melhor que uma simples soma, se ainda se lembra das aulas sabe que para somar duas matrizes é preciso primeiro garantir que elas possuem o mesmo \"tamanho\", então la vamos nos implementar uma função que confere essa característica."
   ]
  },
  {
   "cell_type": "code",
   "execution_count": 11,
   "metadata": {},
   "outputs": [],
   "source": [
    "def mesmo_tamanho(matriz1, matriz2):\n",
    "    if (is_valid(matriz1) and is_valid(matriz2)):\n",
    "        if (len(matriz1) == len(matriz2) and len(matriz1[0]) == len(matriz2[0])):\n",
    "            return True\n",
    "    return False"
   ]
  },
  {
   "cell_type": "markdown",
   "metadata": {},
   "source": [
    "Certo, até agora muito bonito podemos conferir se um objeto é uma matriz e se duas matrizes possuem o mesmo \"tamanho\". Com todos os preparativos prontos agora sim podemos começar a somar certo? <span style=\"color:red\">Errado</span>, vá com calma que ainda temos que implementar a função de somar matrizes, então sem perder mais um segundo vamos cria-la agora mesmo."
   ]
  },
  {
   "cell_type": "code",
   "execution_count": 12,
   "metadata": {},
   "outputs": [],
   "source": [
    "def soma_matriz(matriz1, matriz2):\n",
    "    if (mesmo_tamanho(matriz1, matriz2)):\n",
    "        matriz_resultante = []\n",
    "        for i in range(len(matriz1)):\n",
    "            linha = []\n",
    "            for j in range(len(matriz1[0])):\n",
    "                linha.append(matriz1[i][j]+matriz2[i][j])\n",
    "            matriz_resultante.append(linha)\n",
    "        return(matriz_resultante)\n",
    "    else:\n",
    "        return (\"Erro matizes de tamanho diferente\")"
   ]
  },
  {
   "cell_type": "markdown",
   "metadata": {},
   "source": [
    "Com as funções devidamente implementadas que tal darmos uma espiadinha nelas funcionando?"
   ]
  },
  {
   "cell_type": "code",
   "execution_count": 19,
   "metadata": {},
   "outputs": [
    {
     "name": "stdout",
     "output_type": "stream",
     "text": [
      "[[4, 4, 4], [4, 4, 4], [4, 4, 4]]\n"
     ]
    }
   ],
   "source": [
    "matriz1 = [\n",
    "    [0, 1, 2],\n",
    "    [1, 2, 3],\n",
    "    [2, 3, 4]\n",
    "]\n",
    "matriz2 = [\n",
    "    [4, 3, 2],\n",
    "    [3, 2, 1],\n",
    "    [2, 1, 0]\n",
    "]\n",
    "print(soma_matriz(matriz1, matriz2))"
   ]
  },
  {
   "cell_type": "markdown",
   "metadata": {},
   "source": [
    "<img src=\"https://c.tenor.com/qljo2BEYlVMAAAAd/dio-brando-dio.gif\" width=\"300\" />\n",
    "\n",
    "Misericordia que exibição feia, temos que dar um jeitinho para conseguirmos ver melhor essa saída. "
   ]
  },
  {
   "cell_type": "code",
   "execution_count": 14,
   "metadata": {},
   "outputs": [],
   "source": [
    "def exibir_matriz(matriz):\n",
    "    for i in range(len(matriz)):\n",
    "        linha = \"\"\n",
    "        for j in range(len(matriz[i])):\n",
    "            linha += \"{}\\t\".format(matriz[i][j])\n",
    "        print(linha) "
   ]
  },
  {
   "cell_type": "code",
   "execution_count": 18,
   "metadata": {},
   "outputs": [
    {
     "name": "stdout",
     "output_type": "stream",
     "text": [
      "4\t4\t4\t\n",
      "4\t4\t4\t\n",
      "4\t4\t4\t\n"
     ]
    }
   ],
   "source": [
    "matriz1 = [\n",
    "    [0, 1, 2],\n",
    "    [1, 2, 3],\n",
    "    [2, 3, 4]\n",
    "]\n",
    "matriz2 = [\n",
    "    [4, 3, 2],\n",
    "    [3, 2, 1],\n",
    "    [2, 1, 0]\n",
    "]\n",
    "exibir_matriz(soma_matriz(matriz1, matriz2))"
   ]
  },
  {
   "cell_type": "markdown",
   "metadata": {},
   "source": [
    "É preciso entender que as matrizes não são uteis apenas para fazer operações matemáticas, são extensivamente utilizadas na computação, seja para representar mapas 2D, imagens, agrupar dados diversos, e processar utilizando melhor a GPU."
   ]
  }
 ],
 "metadata": {
  "kernelspec": {
   "display_name": "Python 3.10.6 64-bit",
   "language": "python",
   "name": "python3"
  },
  "language_info": {
   "codemirror_mode": {
    "name": "ipython",
    "version": 3
   },
   "file_extension": ".py",
   "mimetype": "text/x-python",
   "name": "python",
   "nbconvert_exporter": "python",
   "pygments_lexer": "ipython3",
   "version": "3.10.6"
  },
  "orig_nbformat": 4,
  "vscode": {
   "interpreter": {
    "hash": "e7370f93d1d0cde622a1f8e1c04877d8463912d04d973331ad4851f04de6915a"
   }
  }
 },
 "nbformat": 4,
 "nbformat_minor": 2
}

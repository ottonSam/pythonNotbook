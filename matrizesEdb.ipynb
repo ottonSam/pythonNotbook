{
 "cells": [
  {
   "cell_type": "markdown",
   "metadata": {},
   "source": [
    "# Matrizes\n",
    "Uma matriz é um estrutura de dados utilizada para representar variáveis com valores homogêneos. Não existe nativamente um tipo matriz no python, então para representa-la devemos criar uma lista de listas."
   ]
  },
  {
   "cell_type": "code",
   "execution_count": 1,
   "metadata": {},
   "outputs": [],
   "source": [
    "matriz = [\n",
    "    [0, 1, 2],\n",
    "    [1, 2, 3],\n",
    "    [2, 3, 4]\n",
    "]"
   ]
  },
  {
   "cell_type": "markdown",
   "metadata": {},
   "source": [
    "Claro que parece muito simples e talvez ainda não esteja claro como podemos usar as matrizes para auxiliar na resolução de alguns problema. Note que quando implementamos uma matriz dessa maneira algumas características devem ser respeitadas, como a que define que todas as linhas da matriz devem possuir a mesma quantidade de elementos.\n",
    "Para garantir que trabalharemos com uma matriz vamos implementar uma função que confirma sua validade."
   ]
  },
  {
   "cell_type": "code",
   "execution_count": 2,
   "metadata": {},
   "outputs": [],
   "source": [
    "def is_valid(matriz):\n",
    "    for i in range(len(matriz)):\n",
    "        if (len(matriz[i]) != len(matriz[0])):\n",
    "            return False\n",
    "    return True"
   ]
  },
  {
   "cell_type": "markdown",
   "metadata": {},
   "source": [
    "Esse trecho simples de código apenas percorre as linhas da matriz e faz uma comparação de sua quantidade de elementos com a primeira linha, assim caso detecte uma linhas com um numero de elementos diferente das demais o retorno é Falso, caso todas tenham exatamente a mesma quantia de elemento o retorno é Verdadeiro."
   ]
  },
  {
   "cell_type": "code",
   "execution_count": 8,
   "metadata": {},
   "outputs": [
    {
     "name": "stdout",
     "output_type": "stream",
     "text": [
      "True\n",
      "True\n",
      "True\n",
      "False\n"
     ]
    }
   ],
   "source": [
    "print(is_valid([\n",
    "    []\n",
    "]))\n",
    "\n",
    "print(is_valid([\n",
    "    [1, 2, 3]\n",
    "]))\n",
    "\n",
    "print(is_valid([\n",
    "    [1],\n",
    "    [2],\n",
    "    [3]\n",
    "]))\n",
    "\n",
    "print(is_valid([\n",
    "    [1, 2, 3],\n",
    "    [1, 2],\n",
    "    [1]\n",
    "]))"
   ]
  }
 ],
 "metadata": {
  "kernelspec": {
   "display_name": "Python 3.10.6 64-bit",
   "language": "python",
   "name": "python3"
  },
  "language_info": {
   "codemirror_mode": {
    "name": "ipython",
    "version": 3
   },
   "file_extension": ".py",
   "mimetype": "text/x-python",
   "name": "python",
   "nbconvert_exporter": "python",
   "pygments_lexer": "ipython3",
   "version": "3.10.6"
  },
  "orig_nbformat": 4,
  "vscode": {
   "interpreter": {
    "hash": "e7370f93d1d0cde622a1f8e1c04877d8463912d04d973331ad4851f04de6915a"
   }
  }
 },
 "nbformat": 4,
 "nbformat_minor": 2
}

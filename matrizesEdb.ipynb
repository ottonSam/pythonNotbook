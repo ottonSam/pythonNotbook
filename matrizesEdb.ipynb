{
 "cells": [
  {
   "cell_type": "markdown",
   "metadata": {},
   "source": [
    "# Matrizes\n",
    "Uma matriz é um estrutura de dados utilizada para representar variáveis com valores homogêneos. Não existe nativamente um tipo matriz no python, então para representa-la devemos criar uma lista de listas."
   ]
  },
  {
   "cell_type": "code",
   "execution_count": 1,
   "metadata": {},
   "outputs": [],
   "source": [
    "matriz = [\n",
    "    [0, 1, 2],\n",
    "    [1, 2, 3],\n",
    "    [2, 3, 4]\n",
    "]"
   ]
  },
  {
   "cell_type": "markdown",
   "metadata": {},
   "source": [
    "Claro que parece muito simples e talvez ainda não esteja claro como podemos usar as matrizes para auxiliar na resolução de alguns problema. Note que quando implementamos uma matriz dessa maneira algumas características devem ser respeitadas, como a que define que todas as linhas da matriz devem possuir a mesma quantidade de elementos.\n",
    "Para garantir que trabalharemos com uma matriz vamos implementar uma função que confirma sua validade."
   ]
  },
  {
   "cell_type": "code",
   "execution_count": 2,
   "metadata": {},
   "outputs": [],
   "source": [
    "def is_valid(matriz):\n",
    "    for i in range(len(matriz)):\n",
    "        if (len(matriz[i]) != len(matriz[0])):\n",
    "            return False\n",
    "    return True"
   ]
  },
  {
   "cell_type": "markdown",
   "metadata": {},
   "source": [
    "Esse trecho simples de código apenas percorre as linhas da matriz e faz uma comparação de sua quantidade de elementos com a primeira linha, assim caso detecte uma linhas com um numero de elementos diferente das demais o retorno é Falso, caso todas tenham exatamente a mesma quantia de elemento o retorno é Verdadeiro."
   ]
  },
  {
   "cell_type": "code",
   "execution_count": 8,
   "metadata": {},
   "outputs": [
    {
     "name": "stdout",
     "output_type": "stream",
     "text": [
      "True\n",
      "True\n",
      "True\n",
      "False\n"
     ]
    }
   ],
   "source": [
    "print(is_valid([\n",
    "    []\n",
    "]))\n",
    "\n",
    "print(is_valid([\n",
    "    [1, 2, 3]\n",
    "]))\n",
    "\n",
    "print(is_valid([\n",
    "    [1],\n",
    "    [2],\n",
    "    [3]\n",
    "]))\n",
    "\n",
    "print(is_valid([\n",
    "    [1, 2, 3],\n",
    "    [1, 2],\n",
    "    [1]\n",
    "]))"
   ]
  },
  {
   "cell_type": "markdown",
   "metadata": {},
   "source": [
    "Agora que vamos uma função de soma para matrizes, e para isso temos que criar uma nova função para garantir seu pleno funcionamento, vamos implementar uma função que verifica se as matrizes possuem o mesmo tamanho."
   ]
  },
  {
   "cell_type": "code",
   "execution_count": 11,
   "metadata": {},
   "outputs": [],
   "source": [
    "def mesmo_tamanho(matriz1, matriz2):\n",
    "    if (is_valid(matriz1) and is_valid(matriz2)):\n",
    "        if (len(matriz1) == len(matriz2) and len(matriz1[0]) == len(matriz2[0])):\n",
    "            return True\n",
    "    return False"
   ]
  },
  {
   "cell_type": "markdown",
   "metadata": {},
   "source": [
    "Certo, até agora muito bonito podemos conferir se uma lista é uma matriz ou não e se elas possuem o mesmo, mas em que isso pode nos ser util? Inicialmente é claro que podemos pensar em resolver alguns problemas matemáticos e obvio que é possível, apenas saiba que não se deve limitar as matrizes a estes fins. Vejamos agora uma soma de duas matrizes."
   ]
  },
  {
   "cell_type": "code",
   "execution_count": 12,
   "metadata": {},
   "outputs": [],
   "source": [
    "def soma_matriz(matriz1, matriz2):\n",
    "    if (mesmo_tamanho(matriz1, matriz2)):\n",
    "        matriz_resultante = []\n",
    "        for i in range(len(matriz1)):\n",
    "            linha = []\n",
    "            for j in range(len(matriz1[0])):\n",
    "                linha.append(matriz1[i][j]+matriz2[i][j])\n",
    "            matriz_resultante.append(linha)\n",
    "        return(matriz_resultante)\n",
    "    else:\n",
    "        return (\"Erro matizes de tamanho diferente\")"
   ]
  },
  {
   "cell_type": "markdown",
   "metadata": {},
   "source": [
    "Com as funções devidamente implementadas que tal darmos uma espiadinha nelas funcionando?"
   ]
  },
  {
   "cell_type": "code",
   "execution_count": 19,
   "metadata": {},
   "outputs": [
    {
     "name": "stdout",
     "output_type": "stream",
     "text": [
      "[[4, 4, 4], [4, 4, 4], [4, 4, 4]]\n"
     ]
    }
   ],
   "source": [
    "matriz1 = [\n",
    "    [0, 1, 2],\n",
    "    [1, 2, 3],\n",
    "    [2, 3, 4]\n",
    "]\n",
    "matriz2 = [\n",
    "    [4, 3, 2],\n",
    "    [3, 2, 1],\n",
    "    [2, 1, 0]\n",
    "]\n",
    "print(soma_matriz(matriz1, matriz2))"
   ]
  },
  {
   "cell_type": "markdown",
   "metadata": {},
   "source": [
    "A operação esta sendo efetuada corretamente, mas podemos melhorar essa exibição"
   ]
  },
  {
   "cell_type": "code",
   "execution_count": 14,
   "metadata": {},
   "outputs": [],
   "source": [
    "def exibir_matriz(matriz):\n",
    "    for i in range(len(matriz)):\n",
    "        linha = \"\"\n",
    "        for j in range(len(matriz[i])):\n",
    "            linha += \"{}\\t\".format(matriz[i][j])\n",
    "        print(linha) "
   ]
  },
  {
   "cell_type": "code",
   "execution_count": 18,
   "metadata": {},
   "outputs": [
    {
     "name": "stdout",
     "output_type": "stream",
     "text": [
      "4\t4\t4\t\n",
      "4\t4\t4\t\n",
      "4\t4\t4\t\n"
     ]
    }
   ],
   "source": [
    "matriz1 = [\n",
    "    [0, 1, 2],\n",
    "    [1, 2, 3],\n",
    "    [2, 3, 4]\n",
    "]\n",
    "matriz2 = [\n",
    "    [4, 3, 2],\n",
    "    [3, 2, 1],\n",
    "    [2, 1, 0]\n",
    "]\n",
    "exibir_matriz(soma_matriz(matriz1, matriz2))"
   ]
  }
 ],
 "metadata": {
  "kernelspec": {
   "display_name": "Python 3.10.6 64-bit",
   "language": "python",
   "name": "python3"
  },
  "language_info": {
   "codemirror_mode": {
    "name": "ipython",
    "version": 3
   },
   "file_extension": ".py",
   "mimetype": "text/x-python",
   "name": "python",
   "nbconvert_exporter": "python",
   "pygments_lexer": "ipython3",
   "version": "3.10.6"
  },
  "orig_nbformat": 4,
  "vscode": {
   "interpreter": {
    "hash": "e7370f93d1d0cde622a1f8e1c04877d8463912d04d973331ad4851f04de6915a"
   }
  }
 },
 "nbformat": 4,
 "nbformat_minor": 2
}

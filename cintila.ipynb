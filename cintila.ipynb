{
 "cells": [
  {
   "cell_type": "code",
   "execution_count": 73,
   "metadata": {},
   "outputs": [
    {
     "name": "stdout",
     "output_type": "stream",
     "text": [
      "[1, 1, 0, 1]\n",
      "0\t1\t0\t0\t\n",
      "0\t0\t0\t2\t\n",
      "0\t0\t0\t0\t\n",
      "0\t0\t0\t3\t\n"
     ]
    }
   ],
   "source": [
    "import random\n",
    "\n",
    "def exibir_matriz(matriz):\n",
    "    for i in range(len(matriz)):\n",
    "        linha = \"\"\n",
    "        for j in range(len(matriz[i])):\n",
    "            linha += \"{}\\t\".format(matriz[i][j])\n",
    "        print(linha)\n",
    "\n",
    "nome = \"ta\"\n",
    "random.seed(nome)\n",
    "\n",
    "while(True):\n",
    "    eL = [random.randint(0, 2), random.randint(0, 2), random.randint(0, 2), random.randint(0, 2)]\n",
    "\n",
    "    matriz = [\n",
    "        [0, 0, 0, 0],\n",
    "        [0, 0, 0, 0],\n",
    "        [0, 0, 0, 0],\n",
    "        [0, 0, 0, 0]\n",
    "    ]\n",
    "\n",
    "    c = 0\n",
    "    \n",
    "    for i in range(len(eL)):\n",
    "            f = 0\n",
    "            while(f < eL[i]):\n",
    "                j = random.randint(0, 3) \n",
    "                if matriz[i][j] == 0:\n",
    "                    c += 1\n",
    "                    matriz[i][j] = c\n",
    "                    f += 1\n",
    "    if c > 2:\n",
    "        break\n",
    "\n",
    "print(eL)\n",
    "exibir_matriz(matriz)"
   ]
  }
 ],
 "metadata": {
  "kernelspec": {
   "display_name": "Python 3.10.7 64-bit",
   "language": "python",
   "name": "python3"
  },
  "language_info": {
   "codemirror_mode": {
    "name": "ipython",
    "version": 3
   },
   "file_extension": ".py",
   "mimetype": "text/x-python",
   "name": "python",
   "nbconvert_exporter": "python",
   "pygments_lexer": "ipython3",
   "version": "3.10.7"
  },
  "orig_nbformat": 4,
  "vscode": {
   "interpreter": {
    "hash": "e7370f93d1d0cde622a1f8e1c04877d8463912d04d973331ad4851f04de6915a"
   }
  }
 },
 "nbformat": 4,
 "nbformat_minor": 2
}

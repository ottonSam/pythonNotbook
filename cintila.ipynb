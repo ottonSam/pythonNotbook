{
 "cells": [
  {
   "cell_type": "code",
   "execution_count": 6,
   "metadata": {},
   "outputs": [
    {
     "name": "stdout",
     "output_type": "stream",
     "text": [
      "Quantidade total de estrelas: 6\n",
      "Quantidade de estrela na linha 1: 2\n",
      "Quantidade de estrela na linha 3: 2\n",
      "Quantidade de estrela na linha 5: 1\n",
      "Quantidade de estrela na linha 6: 1\n",
      "Matriz\n",
      "0\t0\t2\t0\t1\t0\t\n",
      "0\t0\t0\t0\t0\t0\t\n",
      "3\t0\t0\t0\t4\t0\t\n",
      "0\t0\t0\t0\t0\t0\t\n",
      "0\t0\t0\t0\t5\t0\t\n",
      "0\t0\t0\t6\t0\t0\t\n",
      "Constelação\n",
      " \t \t✦\t \t✦\t \t\n",
      " \t \t \t \t \t \t\n",
      "✦\t \t \t \t✦\t \t\n",
      " \t \t \t \t \t \t\n",
      " \t \t \t \t✦\t \t\n",
      " \t \t \t✦\t \t \t\n"
     ]
    }
   ],
   "source": [
    "import random\n",
    "\n",
    "def exibir_constelacao(matriz):\n",
    "    for i in range(len(matriz)):\n",
    "        linha = \"\"\n",
    "        for j in range(len(matriz[i])):\n",
    "            p = matriz[i][j]\n",
    "            if p == 0:\n",
    "                p = \" \"\n",
    "            else:\n",
    "                p = \"✦\"\n",
    "            linha += \"{}\\t\".format(p)\n",
    "        print(linha)\n",
    "\n",
    "def exibir_matriz(matriz):\n",
    "    for i in range(len(matriz)):\n",
    "        linha = \"\"\n",
    "        for j in range(len(matriz[i])):\n",
    "            p = matriz[i][j]\n",
    "            linha += \"{}\\t\".format(p)\n",
    "        print(linha)\n",
    "\n",
    "nome = \"tay\"\n",
    "random.seed(nome.lower())\n",
    "\n",
    "while(True):\n",
    "    eL = [random.randint(0, 2), random.randint(0, 2), random.randint(0, 2), random.randint(0, 2),random.randint(0, 2), random.randint(0, 2)]\n",
    "    if sum(eL) > 2 and sum(eL) < 9:\n",
    "\n",
    "        matriz = [\n",
    "            [0, 0, 0, 0, 0, 0],\n",
    "            [0, 0, 0, 0, 0, 0],\n",
    "            [0, 0, 0, 0, 0, 0],\n",
    "            [0, 0, 0, 0, 0, 0],\n",
    "            [0, 0, 0, 0, 0, 0],\n",
    "            [0, 0, 0, 0, 0, 0],\n",
    "\n",
    "        ]\n",
    "\n",
    "        c = 0\n",
    "    \n",
    "        for i in range(len(eL)):\n",
    "                f = 0\n",
    "                while(f < eL[i]):\n",
    "                    j = random.randint(0, 5) \n",
    "                    if matriz[i][j] == 0:\n",
    "                        c += 1\n",
    "                        matriz[i][j] = c\n",
    "                        f += 1\n",
    "        break\n",
    "\n",
    "print(\"Quantidade total de estrelas: {}\".format(c))\n",
    "for i in range(len(eL)):\n",
    "    if eL[i] > 0:\n",
    "        print(\"Quantidade de estrela na linha {}: {}\".format(i+1, eL[i]))\n",
    "print(\"Matriz\")\n",
    "exibir_matriz(matriz)\n",
    "print(\"Constelação\")\n",
    "exibir_constelacao(matriz)"
   ]
  }
 ],
 "metadata": {
  "kernelspec": {
   "display_name": "Python 3.10.7 64-bit",
   "language": "python",
   "name": "python3"
  },
  "language_info": {
   "codemirror_mode": {
    "name": "ipython",
    "version": 3
   },
   "file_extension": ".py",
   "mimetype": "text/x-python",
   "name": "python",
   "nbconvert_exporter": "python",
   "pygments_lexer": "ipython3",
   "version": "3.10.7"
  },
  "orig_nbformat": 4,
  "vscode": {
   "interpreter": {
    "hash": "e7370f93d1d0cde622a1f8e1c04877d8463912d04d973331ad4851f04de6915a"
   }
  }
 },
 "nbformat": 4,
 "nbformat_minor": 2
}

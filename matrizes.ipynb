{
 "cells": [
  {
   "cell_type": "markdown",
   "metadata": {},
   "source": [
    "## Funções básicas de matrizes:\n",
    "- Criar\n",
    "- Exibir"
   ]
  },
  {
   "cell_type": "code",
   "execution_count": 12,
   "metadata": {},
   "outputs": [],
   "source": [
    "def pegar_elementos(linhas, colunas):\n",
    "    matriz  = []\n",
    "    for i in range(linhas):\n",
    "        linha = []\n",
    "        for j in range(colunas):\n",
    "            elemento = input(\"coluna {}, linha {}: \".format(i, j))\n",
    "            linha.append(elemento)\n",
    "        matriz.append(linha)\n",
    "    return matriz"
   ]
  },
  {
   "cell_type": "code",
   "execution_count": 10,
   "metadata": {},
   "outputs": [],
   "source": [
    "def plotar_matriz():\n",
    "    linhas = int(input(\"Quantas linhas sua matriz deve ter? \"))\n",
    "    colunas = int(input(\"Quantas colunas sua matriz deve ter? \"))\n",
    "    return pegar_elementos(linhas, colunas)"
   ]
  },
  {
   "cell_type": "code",
   "execution_count": 15,
   "metadata": {},
   "outputs": [],
   "source": [
    "def exibir_matriz(matriz):\n",
    "    for i in range(len(matriz)):\n",
    "        linha = \"\"\n",
    "        for j in range(len(matriz[i])):\n",
    "            linha += \"{}\\t\".format(matriz[i][j])\n",
    "        print(linha) "
   ]
  },
  {
   "cell_type": "markdown",
   "metadata": {},
   "source": [
    "## Operações\n",
    "- Verificar se duas matrizes tem o mesmo tamanho\n",
    "- Comparar\n",
    "- Criar matriz inversa\n",
    "- Somar matrizes\n",
    "- Subtrair matrizes\n",
    "- Adicionar linha\n",
    "- Adicionar coluna"
   ]
  },
  {
   "cell_type": "code",
   "execution_count": 44,
   "metadata": {},
   "outputs": [],
   "source": [
    "def matrizes_mesmo_tamanho(matriz1, matriz2):\n",
    "    if(len(matriz1) == len(matriz2) and len(matriz1[0]) == len(matriz2[0])):\n",
    "        return (True)\n",
    "    else:\n",
    "        return (False)"
   ]
  },
  {
   "cell_type": "code",
   "execution_count": 41,
   "metadata": {},
   "outputs": [],
   "source": [
    "def matrizes_iguais(matriz1, matriz2):\n",
    "    if(matriz1 == matriz2):\n",
    "        return True\n",
    "    else: \n",
    "        return False"
   ]
  },
  {
   "cell_type": "code",
   "execution_count": 25,
   "metadata": {},
   "outputs": [],
   "source": [
    "def matriz_inversa(matriz):\n",
    "    inversa = []\n",
    "    for i in range(len(matriz)):\n",
    "        linha = []\n",
    "        for j in range(len(matriz[i])):\n",
    "            linha.append(-1*int((matriz[i][j])))\n",
    "        inversa.append(linha)\n",
    "    return inversa\n"
   ]
  },
  {
   "cell_type": "code",
   "execution_count": 37,
   "metadata": {},
   "outputs": [],
   "source": [
    "def soma_matriz(matriz1, matriz2):\n",
    "    if(matrizes_mesmo_tamanho(matriz1, matriz2)):\n",
    "        for i in range(len(matriz1)):\n",
    "            linha = []\n",
    "            for j in range(len(matriz1[i])):\n",
    "                matriz1[i][j] += matriz2[i][j]\n",
    "        return matriz1\n",
    "    else:\n",
    "        return \"Error: matrizes de tamanho distintos.\""
   ]
  },
  {
   "cell_type": "code",
   "execution_count": 34,
   "metadata": {},
   "outputs": [],
   "source": [
    "def subtracao_matrizes(matriz1, matriz2):\n",
    "    return(soma_matriz(matriz1, matriz_inversa(matriz2)))"
   ]
  },
  {
   "cell_type": "code",
   "execution_count": 53,
   "metadata": {},
   "outputs": [],
   "source": [
    "def adiciona_linha(matriz):\n",
    "    linha = []\n",
    "    for i in range(len(matriz[0])):\n",
    "        elemento = input(\"coluna {}, linha {}: \".format(i, len(matriz)+1))\n",
    "        linha.append(elemento)\n",
    "    matriz.append(linha)\n",
    "    return(matriz)"
   ]
  },
  {
   "cell_type": "code",
   "execution_count": 56,
   "metadata": {},
   "outputs": [],
   "source": [
    "def adiciona_coluna(matriz):\n",
    "    for i in range(len(matriz)):\n",
    "        elemento = input(\"coluna {}, linha {}: \".format(len(matriz[i])+1, i))\n",
    "        matriz[i].append(elemento)\n",
    "    return(matriz)"
   ]
  },
  {
   "cell_type": "markdown",
   "metadata": {},
   "source": [
    "## Exibição/Testagem"
   ]
  },
  {
   "cell_type": "code",
   "execution_count": 60,
   "metadata": {},
   "outputs": [
    {
     "name": "stdout",
     "output_type": "stream",
     "text": [
      "matriz m1:\n",
      "1\t0\t2\t\n",
      "1\t2\t3\t\n",
      "3\t2\t1\t\n",
      "matriz m2:\n",
      "1\t1\t1\t\n",
      "2\t2\t2\t\n",
      "3\t3\t3\t\n",
      "matriz inversa de m1:\n",
      "-1\t0\t-2\t\n",
      "-1\t-2\t-3\t\n",
      "-3\t-2\t-1\t\n",
      "soma de matrizes m1 + m2:\n",
      "2\t1\t3\t\n",
      "3\t4\t5\t\n",
      "6\t5\t4\t\n",
      "subtração de matrizes m1 - m1:\n",
      "0\t0\t0\t\n",
      "0\t0\t0\t\n",
      "0\t0\t0\t\n"
     ]
    }
   ],
   "source": [
    "matriz1 = [\n",
    "    [1, 0, 2],\n",
    "    [1, 2, 3],\n",
    "    [3, 2, 1]\n",
    "]\n",
    "matriz2 = [\n",
    "    [1, 1, 1],\n",
    "    [2, 2, 2],\n",
    "    [3, 3, 3]\n",
    "]\n",
    "print(\"matriz m1:\")\n",
    "exibir_matriz(matriz1)\n",
    "print(\"matriz m2:\")\n",
    "exibir_matriz(matriz2)\n",
    "print(\"matriz inversa de m1:\")\n",
    "exibir_matriz(matriz_inversa(matriz1))\n",
    "print(\"soma de matrizes m1 + m2:\")\n",
    "exibir_matriz(soma_matriz(matriz1, matriz2))\n",
    "print(\"subtração de matrizes m1 - m1:\")\n",
    "exibir_matriz(subtracao_matrizes(matriz1, matriz1))\n",
    "\n"
   ]
  },
  {
   "cell_type": "code",
   "execution_count": 61,
   "metadata": {},
   "outputs": [
    {
     "name": "stdout",
     "output_type": "stream",
     "text": [
      "0\t0\t0\t0\t\n",
      "0\t0\t0\t0\t\n",
      "0\t0\t0\t0\t\n"
     ]
    }
   ],
   "source": [
    "exibir_matriz(adiciona_coluna(matriz1))"
   ]
  },
  {
   "cell_type": "markdown",
   "metadata": {},
   "source": []
  }
 ],
 "metadata": {
  "kernelspec": {
   "display_name": "Python 3.10.6 64-bit",
   "language": "python",
   "name": "python3"
  },
  "language_info": {
   "codemirror_mode": {
    "name": "ipython",
    "version": 3
   },
   "file_extension": ".py",
   "mimetype": "text/x-python",
   "name": "python",
   "nbconvert_exporter": "python",
   "pygments_lexer": "ipython3",
   "version": "3.10.6"
  },
  "orig_nbformat": 4,
  "vscode": {
   "interpreter": {
    "hash": "e7370f93d1d0cde622a1f8e1c04877d8463912d04d973331ad4851f04de6915a"
   }
  }
 },
 "nbformat": 4,
 "nbformat_minor": 2
}

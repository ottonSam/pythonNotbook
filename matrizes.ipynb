{
 "cells": [
  {
   "cell_type": "code",
   "execution_count": 1,
   "metadata": {},
   "outputs": [],
   "source": [
    "def pegar_elementos(linhas, colunas):\n",
    "    matriz  = []\n",
    "    for i in range(linhas):\n",
    "        linha = []\n",
    "        for j in range(colunas):\n",
    "            elemento = input(\"coluna {}, linha {}\".format(i, j))\n",
    "            linha.append(elemento)\n",
    "        matriz.append(linha)\n",
    "    return matriz"
   ]
  },
  {
   "cell_type": "code",
   "execution_count": 8,
   "metadata": {},
   "outputs": [],
   "source": [
    "def plotar_matriz():\n",
    "    linhas = int(input(\"Quantas linhas sua matriz deve ter? \"))\n",
    "    colunas = int(input(\"Quantas colunas sua matriz deve ter? \"))\n",
    "    return pegar_elementos(linhas, colunas)"
   ]
  },
  {
   "cell_type": "code",
   "execution_count": 6,
   "metadata": {},
   "outputs": [],
   "source": [
    "def exibir_matriz(matriz):\n",
    "    for i in range(len(matriz)):\n",
    "        linha = \"\"\n",
    "        for j in range(len(matriz[i])):\n",
    "            linha += \"{} \".format(matriz[i][j])\n",
    "        print(linha) "
   ]
  },
  {
   "cell_type": "code",
   "execution_count": 9,
   "metadata": {},
   "outputs": [
    {
     "ename": "TypeError",
     "evalue": "object of type 'function' has no len()",
     "output_type": "error",
     "traceback": [
      "\u001b[0;31m---------------------------------------------------------------------------\u001b[0m",
      "\u001b[0;31mTypeError\u001b[0m                                 Traceback (most recent call last)",
      "\u001b[1;32m/home/ottonsam/Github/pythonNotbook/matrizes.ipynb Cell 4\u001b[0m in \u001b[0;36m<cell line: 1>\u001b[0;34m()\u001b[0m\n\u001b[0;32m----> <a href='vscode-notebook-cell:/home/ottonsam/Github/pythonNotbook/matrizes.ipynb#W3sZmlsZQ%3D%3D?line=0'>1</a>\u001b[0m exibir_matriz(plotar_matriz)\n",
      "\u001b[1;32m/home/ottonsam/Github/pythonNotbook/matrizes.ipynb Cell 4\u001b[0m in \u001b[0;36mexibir_matriz\u001b[0;34m(matriz)\u001b[0m\n\u001b[1;32m      <a href='vscode-notebook-cell:/home/ottonsam/Github/pythonNotbook/matrizes.ipynb#W3sZmlsZQ%3D%3D?line=0'>1</a>\u001b[0m \u001b[39mdef\u001b[39;00m \u001b[39mexibir_matriz\u001b[39m(matriz):\n\u001b[0;32m----> <a href='vscode-notebook-cell:/home/ottonsam/Github/pythonNotbook/matrizes.ipynb#W3sZmlsZQ%3D%3D?line=1'>2</a>\u001b[0m     \u001b[39mfor\u001b[39;00m i \u001b[39min\u001b[39;00m \u001b[39mrange\u001b[39m(\u001b[39mlen\u001b[39;49m(matriz)):\n\u001b[1;32m      <a href='vscode-notebook-cell:/home/ottonsam/Github/pythonNotbook/matrizes.ipynb#W3sZmlsZQ%3D%3D?line=2'>3</a>\u001b[0m         linha \u001b[39m=\u001b[39m \u001b[39m\"\u001b[39m\u001b[39m\"\u001b[39m\n\u001b[1;32m      <a href='vscode-notebook-cell:/home/ottonsam/Github/pythonNotbook/matrizes.ipynb#W3sZmlsZQ%3D%3D?line=3'>4</a>\u001b[0m         \u001b[39mfor\u001b[39;00m j \u001b[39min\u001b[39;00m \u001b[39mrange\u001b[39m(\u001b[39mlen\u001b[39m(matriz[i])):\n",
      "\u001b[0;31mTypeError\u001b[0m: object of type 'function' has no len()"
     ]
    }
   ],
   "source": [
    "exibir_matriz(plotar_matriz)"
   ]
  }
 ],
 "metadata": {
  "kernelspec": {
   "display_name": "Python 3.10.6 64-bit",
   "language": "python",
   "name": "python3"
  },
  "language_info": {
   "codemirror_mode": {
    "name": "ipython",
    "version": 3
   },
   "file_extension": ".py",
   "mimetype": "text/x-python",
   "name": "python",
   "nbconvert_exporter": "python",
   "pygments_lexer": "ipython3",
   "version": "3.10.6"
  },
  "orig_nbformat": 4,
  "vscode": {
   "interpreter": {
    "hash": "e7370f93d1d0cde622a1f8e1c04877d8463912d04d973331ad4851f04de6915a"
   }
  }
 },
 "nbformat": 4,
 "nbformat_minor": 2
}
